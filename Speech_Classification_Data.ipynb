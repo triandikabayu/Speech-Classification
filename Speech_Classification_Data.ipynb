{
  "nbformat": 4,
  "nbformat_minor": 0,
  "metadata": {
    "colab": {
      "provenance": []
    },
    "kernelspec": {
      "name": "python3",
      "display_name": "Python 3"
    },
    "language_info": {
      "name": "python"
    }
  },
  "cells": [
    {
      "cell_type": "code",
      "execution_count": null,
      "metadata": {
        "id": "rNo2xnJY6gzo"
      },
      "outputs": [],
      "source": [
        "import librosa\n",
        "import numpy as np\n",
        "import glob\n",
        "import os\n",
        "import cv2\n",
        "import pandas as pd\n",
        "import keras\n",
        "from keras import Sequential\n",
        "from keras.layers import Dense, Dropout\n",
        "from keras.utils import to_categorical\n",
        "from keras.optimizers import Adam\n",
        "from sklearn.model_selection import train_test_split\n",
        "from sklearn.preprocessing import LabelEncoder\n"
      ]
    },
    {
      "cell_type": "code",
      "source": [
        "# Membuat daftar folder yang akan digunakan\n",
        "sample = ['OAF_sad', 'OAF_happy', 'OAF_angry']\n",
        "# Membuat list untuk menampung spektogram dan label\n",
        "spektogram, labels = [], []"
      ],
      "metadata": {
        "id": "uvjGdQ7rU02X"
      },
      "execution_count": null,
      "outputs": []
    },
    {
      "cell_type": "code",
      "source": [
        "# Looping untuk melakukan ekstraksi fitur pada setiap file suara\n",
        "for folder in sample:\n",
        "    for file in glob.glob(folder + '/*.wav'):\n",
        "# Membaca file suara menggunakan library librosa\n",
        "        y, sr = librosa.load(file)"
      ],
      "metadata": {
        "id": "Ql0Z_C4sUtGG"
      },
      "execution_count": null,
      "outputs": []
    },
    {
      "cell_type": "code",
      "source": [
        "# Mengambil nilai spektrogram dari file suara\n",
        "spec = np.abs(librosa.stft(y))\n",
        "spec = librosa.amplitude_to_db(spec, ref=np.max)\n",
        "\n",
        "# Mengubah ukuran spektrogram menjadi 64x64 piksel dan melakukan flattening\n",
        "spec = cv2.resize(spec, (64, 64))\n",
        "spec = spec.flatten()\n",
        "\n",
        "# Menambahkan spektrogram dan label ke dalam list\n",
        "spektogram.append(spec)\n",
        "labels.append(folder)\n",
        "\n",
        "# Membuat dataframe dari spektrogram dan label\n",
        "data = pd.DataFrame(spektogram)\n",
        "data['Label'] = labels\n",
        "\n",
        "# Melakukan label encoding pada label\n",
        "y = data['Label'].values\n",
        "le = LabelEncoder()\n",
        "Y = le.fit_transform(y)\n",
        "Y = to_categorical(Y, 3)\n",
        "\n",
        "# Memisahkan data menjadi data train dan data test\n",
        "X = data.drop(columns=['Label'])\n",
        "X = X.values\n",
        "X_train, X_test, y_train, y_test = train_test_split(X, Y, test_size=0.3,\n",
        "random_state=42)\n",
        "\n"
      ],
      "metadata": {
        "id": "C9Y8cejoUum2"
      },
      "execution_count": null,
      "outputs": []
    },
    {
      "cell_type": "code",
      "source": [
        "# Membuat model neural network dengan keras\n",
        "model = Sequential()\n",
        "model.add(Dense(2048, input_dim=4096, activation='relu'))\n",
        "model.add(Dropout(0.5))\n",
        "model.add(Dense(1024, activation='relu'))\n",
        "model.add(Dropout(0.5))\n",
        "model.add(Dense(512, activation='relu'))\n",
        "model.add(Dropout(0.5))\n",
        "model.add(Dense(256, activation='relu'))\n",
        "model.add(Dropout(0.5))\n",
        "model.add(Dense(128, activation='relu'))\n",
        "model.add(Dropout(0.5))\n",
        "model.add(Dense(64, activation='relu'))\n",
        "model.add(Dropout(0.5))\n",
        "model.add(Dense(3, activation='softmax'))\n",
        "model.compile(loss='categorical_crossentropy', optimizer=Adam(lr=0.0001),\n",
        "metrics=['accuracy'])\n",
        "\n",
        "# Melatih model dengan data train\n",
        "model.fit(X_train, y_train, validation_data=(X_test, y_test), epochs=50,\n",
        "batch_size=32)\n"
      ],
      "metadata": {
        "id": "ZbDHy7JxV3ur"
      },
      "execution_count": null,
      "outputs": []
    },
    {
      "cell_type": "code",
      "source": [
        "# Memprediksi label dari data test dan menghitung akurasi\n",
        "y_pred = model.predict_classes(X_test)\n",
        "y_true = [np.argmax(x) for x in y_test]\n",
        "accuracy = np.mean(y_pred == y_true)\n",
        "print('Accuracy:', accuracy)\n"
      ],
      "metadata": {
        "id": "zjxTuXkoV5xi"
      },
      "execution_count": null,
      "outputs": []
    }
  ]
}